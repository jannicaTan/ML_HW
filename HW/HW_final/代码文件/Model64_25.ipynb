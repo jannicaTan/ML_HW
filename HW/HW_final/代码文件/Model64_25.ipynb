{
 "cells": [
  {
   "cell_type": "code",
   "execution_count": 1,
   "metadata": {},
   "outputs": [],
   "source": [
    "import numpy as np\n",
    "import json\n",
    "import thulac\n",
    "import re\n",
    "import tensorflow as tf\n",
    "import tensorflow.keras as keras\n",
    "import tensorflow.keras.layers as layers\n",
    "from tqdm import tqdm\n",
    "import cv2 as cv\n",
    "import os\n",
    "import glob"
   ]
  },
  {
   "cell_type": "code",
   "execution_count": null,
   "metadata": {},
   "outputs": [],
   "source": [
    "data = np.load('data/data.npy')\n",
    "labels = np.load('data/labels.npy')"
   ]
  },
  {
   "cell_type": "code",
   "execution_count": 3,
   "metadata": {},
   "outputs": [],
   "source": [
    "# 为了提高识别的准确率，对数据集进行打乱处理\n",
    "permutation = np.random.permutation(labels.shape[0])\n",
    "data = data[permutation, :]\n",
    "labels = labels[permutation]"
   ]
  },
  {
   "cell_type": "code",
   "execution_count": 4,
   "metadata": {},
   "outputs": [],
   "source": [
    "#构建RNN模型\n",
    "model = tf.keras.Sequential([\n",
    "    tf.keras.layers.Embedding(int(data.max() + 1),output_dim=64),\n",
    "    tf.keras.layers.GlobalAveragePooling1D(),\n",
    "    tf.keras.layers.Dense(256, activation='relu'),\n",
    "    tf.keras.layers.Dense(1)\n",
    "])"
   ]
  },
  {
   "cell_type": "code",
   "execution_count": 5,
   "metadata": {},
   "outputs": [],
   "source": [
    "# 定义优化器\n",
    "adam = keras.optimizers.Adam(0.0001)"
   ]
  },
  {
   "cell_type": "code",
   "execution_count": 6,
   "metadata": {},
   "outputs": [],
   "source": [
    "model.compile(optimizer=adam, \n",
    "              metrics=['acc'],\n",
    "              loss='binary_crossentropy')"
   ]
  },
  {
   "cell_type": "code",
   "execution_count": 7,
   "metadata": {},
   "outputs": [
    {
     "name": "stdout",
     "output_type": "stream",
     "text": [
      "Model: \"sequential\"\n",
      "_________________________________________________________________\n",
      "Layer (type)                 Output Shape              Param #   \n",
      "=================================================================\n",
      "embedding (Embedding)        (None, None, 64)          3180864   \n",
      "_________________________________________________________________\n",
      "global_average_pooling1d (Gl (None, 64)                0         \n",
      "_________________________________________________________________\n",
      "dense (Dense)                (None, 256)               16640     \n",
      "_________________________________________________________________\n",
      "dense_1 (Dense)              (None, 1)                 257       \n",
      "=================================================================\n",
      "Total params: 3,197,761\n",
      "Trainable params: 3,197,761\n",
      "Non-trainable params: 0\n",
      "_________________________________________________________________\n"
     ]
    }
   ],
   "source": [
    "model.summary()"
   ]
  },
  {
   "cell_type": "code",
   "execution_count": 8,
   "metadata": {},
   "outputs": [],
   "source": [
    "# 使用 Tensorboard 作为模型训练监视器，监控过拟合\n",
    "tensorBoard = keras.callbacks.TensorBoard(log_dir='kerasLog', write_images=1, histogram_freq=1)"
   ]
  },
  {
   "cell_type": "code",
   "execution_count": 9,
   "metadata": {},
   "outputs": [
    {
     "name": "stdout",
     "output_type": "stream",
     "text": [
      "Train on 42000 samples, validate on 18000 samples\n",
      "Epoch 1/20\n",
      "42000/42000 [==============================] - 125s 3ms/sample - loss: 0.7704 - acc: 0.5219 - val_loss: 0.6824 - val_acc: 0.5553\n",
      "Epoch 2/20\n",
      "42000/42000 [==============================] - 123s 3ms/sample - loss: 0.6743 - acc: 0.5852 - val_loss: 0.6641 - val_acc: 0.6141\n",
      "Epoch 3/20\n",
      "42000/42000 [==============================] - 122s 3ms/sample - loss: 0.6376 - acc: 0.6792 - val_loss: 0.6051 - val_acc: 0.7106\n",
      "Epoch 4/20\n",
      "42000/42000 [==============================] - 123s 3ms/sample - loss: 0.5575 - acc: 0.7713 - val_loss: 0.5426 - val_acc: 0.7970\n",
      "Epoch 5/20\n",
      "42000/42000 [==============================] - 124s 3ms/sample - loss: 0.5125 - acc: 0.7949 - val_loss: 0.5243 - val_acc: 0.7898\n",
      "Epoch 6/20\n",
      "42000/42000 [==============================] - 123s 3ms/sample - loss: 0.4893 - acc: 0.8156 - val_loss: 0.5198 - val_acc: 0.8130\n",
      "Epoch 7/20\n",
      "42000/42000 [==============================] - 122s 3ms/sample - loss: 0.4766 - acc: 0.8176 - val_loss: 0.5151 - val_acc: 0.8096\n",
      "Epoch 8/20\n",
      "42000/42000 [==============================] - 121s 3ms/sample - loss: 0.4614 - acc: 0.8305 - val_loss: 0.5294 - val_acc: 0.7814\n",
      "Epoch 9/20\n",
      "42000/42000 [==============================] - 121s 3ms/sample - loss: 0.4525 - acc: 0.8312 - val_loss: 0.5054 - val_acc: 0.8174\n",
      "Epoch 10/20\n",
      "42000/42000 [==============================] - 121s 3ms/sample - loss: 0.4404 - acc: 0.8390 - val_loss: 0.5076 - val_acc: 0.8084\n",
      "Epoch 11/20\n",
      "42000/42000 [==============================] - 124s 3ms/sample - loss: 0.4318 - acc: 0.8395 - val_loss: 0.5043 - val_acc: 0.8247\n",
      "Epoch 12/20\n",
      "42000/42000 [==============================] - 123s 3ms/sample - loss: 0.4209 - acc: 0.8471 - val_loss: 0.5058 - val_acc: 0.8211\n",
      "Epoch 13/20\n",
      "42000/42000 [==============================] - 121s 3ms/sample - loss: 0.4132 - acc: 0.8472 - val_loss: 0.5168 - val_acc: 0.8249\n",
      "Epoch 14/20\n",
      "42000/42000 [==============================] - 120s 3ms/sample - loss: 0.4070 - acc: 0.8488 - val_loss: 0.5158 - val_acc: 0.8273\n",
      "Epoch 15/20\n",
      "42000/42000 [==============================] - 120s 3ms/sample - loss: 0.4134 - acc: 0.8431 - val_loss: 0.5080 - val_acc: 0.8270\n",
      "Epoch 16/20\n",
      "42000/42000 [==============================] - 120s 3ms/sample - loss: 0.3967 - acc: 0.8530 - val_loss: 0.5111 - val_acc: 0.8297\n",
      "Epoch 17/20\n",
      "42000/42000 [==============================] - 121s 3ms/sample - loss: 0.3857 - acc: 0.8577 - val_loss: 0.5093 - val_acc: 0.8303\n",
      "Epoch 18/20\n",
      "42000/42000 [==============================] - 121s 3ms/sample - loss: 0.4206 - acc: 0.8379 - val_loss: 0.5021 - val_acc: 0.8277\n",
      "Epoch 19/20\n",
      "42000/42000 [==============================] - 121s 3ms/sample - loss: 0.3749 - acc: 0.8622 - val_loss: 0.5099 - val_acc: 0.8294\n",
      "Epoch 20/20\n",
      "42000/42000 [==============================] - 120s 3ms/sample - loss: 0.3697 - acc: 0.8654 - val_loss: 0.5153 - val_acc: 0.8320\n"
     ]
    }
   ],
   "source": [
    "history=model.fit(data, labels, batch_size=64, validation_split=0.3, epochs=20, callbacks=[tensorBoard], verbose=1)"
   ]
  },
  {
   "cell_type": "code",
   "execution_count": 10,
   "metadata": {},
   "outputs": [
    {
     "data": {
      "image/png": "[encoded data removed]",
      "text/plain": [
       "<Figure size 1152x432 with 2 Axes>"
      ]
     },
     "metadata": {
      "needs_background": "light"
     },
     "output_type": "display_data"
    }
   ],
   "source": [
    "import matplotlib.pyplot as plt\n",
    "def plot_graphs(history, metric):\n",
    "  plt.plot(history.history[metric])\n",
    "  plt.plot(history.history['val_'+metric], '')\n",
    "  plt.xlabel(\"Epochs\")\n",
    "  plt.ylabel(metric)\n",
    "  plt.legend([metric, 'val_'+metric])\n",
    "\n",
    "plt.figure(figsize=(16, 6))\n",
    "plt.subplot(1, 2, 1)\n",
    "plot_graphs(history, 'acc')\n",
    "plt.subplot(1, 2, 2)\n",
    "plot_graphs(history, 'loss')"
   ]
  },
  {
   "cell_type": "code",
   "execution_count": 11,
   "metadata": {},
   "outputs": [],
   "source": [
    "model.save('model.h5')"
   ]
  },
  {
   "cell_type": "code",
   "execution_count": 12,
   "metadata": {},
   "outputs": [],
   "source": [
    "model = keras.models.load_model('model.h5')\n",
    "fin = open('data/word_dict.json', 'r+', encoding='utf8')\n",
    "word_dict = json.load(fin)\n",
    "fin.close()"
   ]
  },
  {
   "cell_type": "code",
   "execution_count": 13,
   "metadata": {},
   "outputs": [
    {
     "name": "stdout",
     "output_type": "stream",
     "text": [
      "Model loaded succeed\n"
     ]
    }
   ],
   "source": [
    "thu = thulac.thulac(seg_only=True, T2S=True, filt=False)\n",
    "def encodeReview(comment):\n",
    "    global thu,word_dict\n",
    "\n",
    "    texts = thu.cut(comment, text=True)\n",
    "    texts = texts.split(' ')\n",
    "\n",
    "    encodedReview = np.array([1]) # <START>\n",
    "    for text in texts:\n",
    "        if(word_dict.get(text) != None):\n",
    "            encodedReview = np.append(encodedReview, word_dict[text])\n",
    "        else:\n",
    "            encodedReview = np.append(encodedReview, 2) # <UNK>\n",
    "\n",
    "    return encodedReview"
   ]
  },
  {
   "cell_type": "code",
   "execution_count": 14,
   "metadata": {},
   "outputs": [],
   "source": [
    "nagativeComment = encodeReview(' 什么破烂反派，毫无戏剧冲突能消耗两个多小时生命，还强加爱情戏。脑残片好圈钱倒是真的。')\n",
    "activeComment = encodeReview('机甲之战超超好看，比变形金刚强；人，神，变异人，人工智能互殴，强强强强；每一小段末句都是槽或者笑点，应该死了不少编剧；Jane不来客串，雷神没露，扣分；女神配怪兽，fair enough；美国队长我最喜欢他的盾，大概因为紫龙；难得人物多次发表演讲还不死；最后，找到了下半年新发型，开心！')\n",
    "# 使用 np.expand_dims 在不改变数据值的情况下扩增一个维度\n",
    "nagativeComment = np.expand_dims(nagativeComment, axis = 0)\n",
    "activeComment = np.expand_dims(activeComment, axis = 0)"
   ]
  },
  {
   "cell_type": "code",
   "execution_count": 15,
   "metadata": {},
   "outputs": [
    {
     "name": "stdout",
     "output_type": "stream",
     "text": [
      "[[    1 40792 47520  5091  4340     2   923 16727 47911 27993 16609 40131\n",
      "  41451 11423 31535  4340 40388 41833  8987 32095 48736 12225  1254 43755\n",
      "   1472 33614 27202 46804 48736]]\n",
      "------\n",
      "[[    1  6156 39099 32975  2715 12350  4340 30163 30727  5503   916 45957\n",
      "   4340 48882  4340 43078  4230  4340 39775 12948  4340   696  9426  9426\n",
      "    916 35883 36185 13143  4898 34151  4711 27046 20720 43396  3830  2442\n",
      "   4340     2 24332 17826     2  5484   916 34875 10819 31580 36739  4340\n",
      "  20401  7123 27819  4340 41740   916 23791 17324  4340 21273 24796   916\n",
      "   6333 36095 47474  9089  9979 13406 46804 44944  4340 24119  7740  3353\n",
      "    916 39589 10969 21958 27462 40388 10819 24332   916 44974  4340 12908\n",
      "  17826  1840 48529  4340 48673   681]]\n"
     ]
    }
   ],
   "source": [
    "print(nagativeComment)\n",
    "print('------')\n",
    "print(activeComment)"
   ]
  },
  {
   "cell_type": "code",
   "execution_count": 16,
   "metadata": {},
   "outputs": [],
   "source": [
    "nResult = model.predict(nagativeComment)\n",
    "aResult = model.predict(activeComment)"
   ]
  },
  {
   "cell_type": "code",
   "execution_count": 17,
   "metadata": {},
   "outputs": [
    {
     "name": "stdout",
     "output_type": "stream",
     "text": [
      "[[-2.436047]]\n",
      "负面\n",
      "正面\n"
     ]
    }
   ],
   "source": [
    "print(nResult)\n",
    "if(nResult[0][0] < 0.5):\n",
    "    print('负面')\n",
    "else:\n",
    "    print('正面')\n",
    "\n",
    "if(aResult[0][0] < 0.5):\n",
    "    print('负面')\n",
    "else:\n",
    "    print('正面')"
   ]
  },
  {
   "cell_type": "code",
   "execution_count": null,
   "metadata": {},
   "outputs": [],
   "source": []
  }
 ],
 "metadata": {
  "kernelspec": {
   "display_name": "Python 3",
   "language": "python",
   "name": "python3"
  },
  "language_info": {
   "codemirror_mode": {
    "name": "ipython",
    "version": 3
   },
   "file_extension": ".py",
   "mimetype": "text/x-python",
   "name": "python",
   "nbconvert_exporter": "python",
   "pygments_lexer": "ipython3",
   "version": "3.6.7"
  }
 },
 "nbformat": 4,
 "nbformat_minor": 4
}
