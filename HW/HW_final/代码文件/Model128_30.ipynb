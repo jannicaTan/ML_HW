{
 "cells": [
  {
   "cell_type": "code",
   "execution_count": null,
   "metadata": {},
   "outputs": [],
   "source": [
    "import numpy as np\n",
    "import json\n",
    "import thulac\n",
    "import re\n",
    "import tensorflow as tf\n",
    "import tensorflow.keras as keras\n",
    "import tensorflow.keras.layers as layers\n",
    "from tqdm import tqdm\n",
    "import cv2 as cv\n",
    "import os\n",
    "import glob"
   ]
  },
  {
   "cell_type": "code",
   "execution_count": 2,
   "metadata": {},
   "outputs": [],
   "source": [
    "data = np.load('data/data.npy')\n",
    "labels = np.load('data/labels.npy')"
   ]
  },
  {
   "cell_type": "code",
   "execution_count": 3,
   "metadata": {},
   "outputs": [],
   "source": [
    "# 为了提高识别的准确率，对数据集进行打乱处理\n",
    "permutation = np.random.permutation(labels.shape[0])\n",
    "data = data[permutation, :]\n",
    "labels = labels[permutation]"
   ]
  },
  {
   "cell_type": "code",
   "execution_count": 4,
   "metadata": {},
   "outputs": [],
   "source": [
    "#构建RNN模型\n",
    "model = tf.keras.Sequential([\n",
    "    tf.keras.layers.Embedding(int(data.max() + 1),output_dim=64),\n",
    "    tf.keras.layers.Bidirectional(tf.keras.layers.LSTM(64)),\n",
    "    tf.keras.layers.Dense(256, activation='relu'),\n",
    "    tf.keras.layers.Dense(1)\n",
    "])"
   ]
  },
  {
   "cell_type": "code",
   "execution_count": 5,
   "metadata": {},
   "outputs": [],
   "source": [
    "# 定义优化器\n",
    "adam = keras.optimizers.Adam(0.0001)"
   ]
  },
  {
   "cell_type": "code",
   "execution_count": 6,
   "metadata": {},
   "outputs": [],
   "source": [
    "model.compile(optimizer=adam, \n",
    "              metrics=['acc'],\n",
    "              loss='binary_crossentropy')"
   ]
  },
  {
   "cell_type": "code",
   "execution_count": 7,
   "metadata": {},
   "outputs": [
    {
     "name": "stdout",
     "output_type": "stream",
     "text": [
      "Model: \"sequential\"\n",
      "_________________________________________________________________\n",
      "Layer (type)                 Output Shape              Param #   \n",
      "=================================================================\n",
      "embedding (Embedding)        (None, None, 64)          3180864   \n",
      "_________________________________________________________________\n",
      "bidirectional (Bidirectional (None, 128)               66048     \n",
      "_________________________________________________________________\n",
      "dense (Dense)                (None, 256)               33024     \n",
      "_________________________________________________________________\n",
      "dense_1 (Dense)              (None, 1)                 257       \n",
      "=================================================================\n",
      "Total params: 3,280,193\n",
      "Trainable params: 3,280,193\n",
      "Non-trainable params: 0\n",
      "_________________________________________________________________\n"
     ]
    }
   ],
   "source": [
    "model.summary()"
   ]
  },
  {
   "cell_type": "code",
   "execution_count": 8,
   "metadata": {},
   "outputs": [],
   "source": [
    "# 使用 Tensorboard 作为模型训练监视器，监控过拟合\n",
    "tensorBoard = keras.callbacks.TensorBoard(log_dir='kerasLog', write_images=1, histogram_freq=1)"
   ]
  },
  {
   "cell_type": "code",
   "execution_count": 9,
   "metadata": {},
   "outputs": [
    {
     "name": "stdout",
     "output_type": "stream",
     "text": [
      "Train on 42000 samples, validate on 18000 samples\n",
      "Epoch 1/30\n",
      "42000/42000 [==============================] - 81s 2ms/sample - loss: 0.9767 - acc: 0.5261 - val_loss: 0.6772 - val_acc: 0.5831\n",
      "Epoch 2/30\n",
      "42000/42000 [==============================] - 77s 2ms/sample - loss: 0.6167 - acc: 0.6853 - val_loss: 0.5093 - val_acc: 0.7753\n",
      "Epoch 3/30\n",
      "42000/42000 [==============================] - 76s 2ms/sample - loss: 0.4689 - acc: 0.8128 - val_loss: 0.4758 - val_acc: 0.8081\n",
      "Epoch 4/30\n",
      "42000/42000 [==============================] - 78s 2ms/sample - loss: 0.4219 - acc: 0.8444 - val_loss: 0.5012 - val_acc: 0.8249\n",
      "Epoch 5/30\n",
      "42000/42000 [==============================] - 79s 2ms/sample - loss: 0.4879 - acc: 0.7940 - val_loss: 0.4637 - val_acc: 0.8186\n",
      "Epoch 6/30\n",
      "42000/42000 [==============================] - 76s 2ms/sample - loss: 0.3899 - acc: 0.8557 - val_loss: 0.4783 - val_acc: 0.8240\n",
      "Epoch 7/30\n",
      "42000/42000 [==============================] - 75s 2ms/sample - loss: 0.4145 - acc: 0.8435 - val_loss: 0.4708 - val_acc: 0.8105\n",
      "Epoch 8/30\n",
      "42000/42000 [==============================] - 74s 2ms/sample - loss: 0.3950 - acc: 0.8593 - val_loss: 0.4659 - val_acc: 0.8154\n",
      "Epoch 9/30\n",
      "42000/42000 [==============================] - 74s 2ms/sample - loss: 0.3663 - acc: 0.8625 - val_loss: 0.4854 - val_acc: 0.8199\n",
      "Epoch 10/30\n",
      "42000/42000 [==============================] - 75s 2ms/sample - loss: 0.3489 - acc: 0.8684 - val_loss: 0.4861 - val_acc: 0.8210\n",
      "Epoch 11/30\n",
      "42000/42000 [==============================] - 75s 2ms/sample - loss: 0.3350 - acc: 0.8727 - val_loss: 0.5162 - val_acc: 0.8231\n",
      "Epoch 12/30\n",
      "42000/42000 [==============================] - 76s 2ms/sample - loss: 0.3216 - acc: 0.8774 - val_loss: 0.5437 - val_acc: 0.8249\n",
      "Epoch 13/30\n",
      "42000/42000 [==============================] - 75s 2ms/sample - loss: 0.3100 - acc: 0.8812 - val_loss: 0.5562 - val_acc: 0.8258\n",
      "Epoch 14/30\n",
      "42000/42000 [==============================] - 75s 2ms/sample - loss: 0.2985 - acc: 0.8857 - val_loss: 0.5771 - val_acc: 0.8271\n",
      "Epoch 15/30\n",
      "42000/42000 [==============================] - 75s 2ms/sample - loss: 0.2881 - acc: 0.8900 - val_loss: 0.6024 - val_acc: 0.8286\n",
      "Epoch 16/30\n",
      "42000/42000 [==============================] - 75s 2ms/sample - loss: 0.2826 - acc: 0.8916 - val_loss: 0.6373 - val_acc: 0.8186\n",
      "Epoch 17/30\n",
      "42000/42000 [==============================] - 74s 2ms/sample - loss: 0.2733 - acc: 0.8958 - val_loss: 0.6034 - val_acc: 0.8306\n",
      "Epoch 18/30\n",
      "42000/42000 [==============================] - 74s 2ms/sample - loss: 0.2628 - acc: 0.9005 - val_loss: 0.6390 - val_acc: 0.8299\n",
      "Epoch 19/30\n",
      "42000/42000 [==============================] - 75s 2ms/sample - loss: 0.2540 - acc: 0.9034 - val_loss: 0.6812 - val_acc: 0.8166\n",
      "Epoch 20/30\n",
      "42000/42000 [==============================] - 75s 2ms/sample - loss: 0.6380 - acc: 0.7741 - val_loss: 0.5393 - val_acc: 0.7876\n",
      "Epoch 21/30\n",
      "42000/42000 [==============================] - 75s 2ms/sample - loss: 0.3368 - acc: 0.8818 - val_loss: 0.5348 - val_acc: 0.8111\n",
      "Epoch 22/30\n",
      "42000/42000 [==============================] - 75s 2ms/sample - loss: 0.2989 - acc: 0.8909 - val_loss: 0.5921 - val_acc: 0.8157\n",
      "Epoch 23/30\n",
      "42000/42000 [==============================] - 75s 2ms/sample - loss: 0.2813 - acc: 0.8943 - val_loss: 0.6323 - val_acc: 0.8185\n",
      "Epoch 24/30\n",
      "42000/42000 [==============================] - 75s 2ms/sample - loss: 0.2687 - acc: 0.8979 - val_loss: 0.6591 - val_acc: 0.8193\n",
      "Epoch 25/30\n",
      "42000/42000 [==============================] - 75s 2ms/sample - loss: 0.2591 - acc: 0.9013 - val_loss: 0.7021 - val_acc: 0.8197\n",
      "Epoch 26/30\n",
      "42000/42000 [==============================] - 75s 2ms/sample - loss: 0.2499 - acc: 0.9039 - val_loss: 0.7168 - val_acc: 0.8209\n",
      "Epoch 27/30\n",
      "42000/42000 [==============================] - 75s 2ms/sample - loss: 0.2415 - acc: 0.9078 - val_loss: 0.7631 - val_acc: 0.8226\n",
      "Epoch 28/30\n",
      "42000/42000 [==============================] - 74s 2ms/sample - loss: 0.2340 - acc: 0.9101 - val_loss: 0.7904 - val_acc: 0.8225\n",
      "Epoch 29/30\n",
      "42000/42000 [==============================] - 76s 2ms/sample - loss: 0.2274 - acc: 0.9132 - val_loss: 0.8143 - val_acc: 0.8235\n",
      "Epoch 30/30\n",
      "42000/42000 [==============================] - 75s 2ms/sample - loss: 0.2200 - acc: 0.9160 - val_loss: 0.8365 - val_acc: 0.8241\n"
     ]
    }
   ],
   "source": [
    "history=model.fit(data, labels, batch_size=128, validation_split=0.3, epochs=30, callbacks=[tensorBoard], verbose=1)"
   ]
  },
  {
   "cell_type": "code",
   "execution_count": 10,
   "metadata": {},
   "outputs": [
    {
     "data": {
      "image/png": "[encoded data removed]",
      "text/plain": [
       "<Figure size 1152x432 with 2 Axes>"
      ]
     },
     "metadata": {
      "needs_background": "light"
     },
     "output_type": "display_data"
    }
   ],
   "source": [
    "import matplotlib.pyplot as plt\n",
    "def plot_graphs(history, metric):\n",
    "  plt.plot(history.history[metric])\n",
    "  plt.plot(history.history['val_'+metric], '')\n",
    "  plt.xlabel(\"Epochs\")\n",
    "  plt.ylabel(metric)\n",
    "  plt.legend([metric, 'val_'+metric])\n",
    "\n",
    "plt.figure(figsize=(16, 6))\n",
    "plt.subplot(1, 2, 1)\n",
    "plot_graphs(history, 'acc')\n",
    "plt.subplot(1, 2, 2)\n",
    "plot_graphs(history, 'loss')"
   ]
  },
  {
   "cell_type": "code",
   "execution_count": 11,
   "metadata": {},
   "outputs": [],
   "source": [
    "model.save('model.h5')"
   ]
  },
  {
   "cell_type": "code",
   "execution_count": 12,
   "metadata": {},
   "outputs": [],
   "source": [
    "model = keras.models.load_model('model.h5')\n",
    "fin = open('data/word_dict.json', 'r+', encoding='utf8')\n",
    "word_dict = json.load(fin)\n",
    "fin.close()"
   ]
  },
  {
   "cell_type": "code",
   "execution_count": 13,
   "metadata": {},
   "outputs": [
    {
     "name": "stdout",
     "output_type": "stream",
     "text": [
      "Model loaded succeed\n"
     ]
    }
   ],
   "source": [
    "thu = thulac.thulac(seg_only=True, T2S=True, filt=False)\n",
    "def encodeReview(comment):\n",
    "    global thu,word_dict\n",
    "\n",
    "    texts = thu.cut(comment, text=True)\n",
    "    texts = texts.split(' ')\n",
    "\n",
    "    encodedReview = np.array([1]) # <START>\n",
    "    for text in texts:\n",
    "        if(word_dict.get(text) != None):\n",
    "            encodedReview = np.append(encodedReview, word_dict[text])\n",
    "        else:\n",
    "            encodedReview = np.append(encodedReview, 2) # <UNK>\n",
    "\n",
    "    return encodedReview"
   ]
  },
  {
   "cell_type": "code",
   "execution_count": 14,
   "metadata": {},
   "outputs": [],
   "source": [
    "nagativeComment = encodeReview(' 什么破烂反派，毫无戏剧冲突能消耗两个多小时生命，还强加爱情戏。脑残片好圈钱倒是真的。')\n",
    "activeComment = encodeReview('机甲之战超超好看，比变形金刚强；人，神，变异人，人工智能互殴，强强强强；每一小段末句都是槽或者笑点，应该死了不少编剧；Jane不来客串，雷神没露，扣分；女神配怪兽，fair enough；美国队长我最喜欢他的盾，大概因为紫龙；难得人物多次发表演讲还不死；最后，找到了下半年新发型，开心！')\n",
    "# 使用 np.expand_dims 在不改变数据值的情况下扩增一个维度\n",
    "nagativeComment = np.expand_dims(nagativeComment, axis = 0)\n",
    "activeComment = np.expand_dims(activeComment, axis = 0)"
   ]
  },
  {
   "cell_type": "code",
   "execution_count": 15,
   "metadata": {},
   "outputs": [
    {
     "name": "stdout",
     "output_type": "stream",
     "text": [
      "[[    1 40792 47520  5091  4340     2   923 16727 47911 27993 16609 40131\n",
      "  41451 11423 31535  4340 40388 41833  8987 32095 48736 12225  1254 43755\n",
      "   1472 33614 27202 46804 48736]]\n",
      "------\n",
      "[[    1  6156 39099 32975  2715 12350  4340 30163 30727  5503   916 45957\n",
      "   4340 48882  4340 43078  4230  4340 39775 12948  4340   696  9426  9426\n",
      "    916 35883 36185 13143  4898 34151  4711 27046 20720 43396  3830  2442\n",
      "   4340     2 24332 17826     2  5484   916 34875 10819 31580 36739  4340\n",
      "  20401  7123 27819  4340 41740   916 23791 17324  4340 21273 24796   916\n",
      "   6333 36095 47474  9089  9979 13406 46804 44944  4340 24119  7740  3353\n",
      "    916 39589 10969 21958 27462 40388 10819 24332   916 44974  4340 12908\n",
      "  17826  1840 48529  4340 48673   681]]\n"
     ]
    }
   ],
   "source": [
    "print(nagativeComment)\n",
    "print('------')\n",
    "print(activeComment)"
   ]
  },
  {
   "cell_type": "code",
   "execution_count": 16,
   "metadata": {},
   "outputs": [],
   "source": [
    "nResult = model.predict(nagativeComment)\n",
    "aResult = model.predict(activeComment)"
   ]
  },
  {
   "cell_type": "code",
   "execution_count": 17,
   "metadata": {},
   "outputs": [
    {
     "name": "stdout",
     "output_type": "stream",
     "text": [
      "[[-0.14105923]]\n",
      "负面\n",
      "正面\n"
     ]
    }
   ],
   "source": [
    "print(nResult)\n",
    "if(nResult[0][0] < 0.5):\n",
    "    print('负面')\n",
    "else:\n",
    "    print('正面')\n",
    "\n",
    "if(aResult[0][0] < 0.5):\n",
    "    print('负面')\n",
    "else:\n",
    "    print('正面')"
   ]
  },
  {
   "cell_type": "code",
   "execution_count": null,
   "metadata": {},
   "outputs": [],
   "source": []
  }
 ],
 "metadata": {
  "kernelspec": {
   "display_name": "Python 3",
   "language": "python",
   "name": "python3"
  },
  "language_info": {
   "codemirror_mode": {
    "name": "ipython",
    "version": 3
   },
   "file_extension": ".py",
   "mimetype": "text/x-python",
   "name": "python",
   "nbconvert_exporter": "python",
   "pygments_lexer": "ipython3",
   "version": "3.6.7"
  }
 },
 "nbformat": 4,
 "nbformat_minor": 4
}
