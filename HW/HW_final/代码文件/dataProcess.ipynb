{
 "cells": [
  {
   "cell_type": "code",
   "execution_count": 1,
   "metadata": {},
   "outputs": [],
   "source": [
    "import pandas as pd\n",
    "from tqdm import tqdm\n",
    "import thulac\n",
    "import re\n",
    "import numpy as np\n",
    "import json"
   ]
  },
  {
   "cell_type": "code",
   "execution_count": 2,
   "metadata": {},
   "outputs": [
    {
     "name": "stdout",
     "output_type": "stream",
     "text": [
      "<class 'pandas.core.frame.DataFrame'>\n",
      "RangeIndex: 2125056 entries, 0 to 2125055\n",
      "Data columns (total 10 columns):\n",
      " #   Column         Dtype \n",
      "---  ------         ----- \n",
      " 0   ID             int64 \n",
      " 1   Movie_Name_EN  object\n",
      " 2   Movie_Name_CN  object\n",
      " 3   Crawl_Date     object\n",
      " 4   Number         int64 \n",
      " 5   Username       object\n",
      " 6   Date           object\n",
      " 7   Star           int64 \n",
      " 8   Comment        object\n",
      " 9   Like           int64 \n",
      "dtypes: int64(4), object(6)\n",
      "memory usage: 162.1+ MB\n"
     ]
    }
   ],
   "source": [
    "# 读取原始数据集\n",
    "dmsc = pd.read_csv('data/DMSC.csv')\n",
    "dmsc.info()"
   ]
  },
  {
   "cell_type": "code",
   "execution_count": 3,
   "metadata": {},
   "outputs": [
    {
     "name": "stdout",
     "output_type": "stream",
     "text": [
      "<class 'numpy.ndarray'>\n",
      "4\n",
      " 20150518电影院看的。看到很多评论说是烂片就没特地去看，刚好有机会去看了下发现这片子挺好的啊。好评\n"
     ]
    }
   ],
   "source": [
    "# 将value值存入dmscNumpy中\n",
    "dmscNumpy = dmsc.values\n",
    "print(type(dmscNumpy))\n",
    "# 存储第7/8列内容:评分及评论\n",
    "stars = dmscNumpy[:,7]#取第7列所有行的值\n",
    "comments = dmscNumpy[:,8]\n",
    "print(stars[1234])\n",
    "print(comments[1234])"
   ]
  },
  {
   "cell_type": "code",
   "execution_count": 4,
   "metadata": {},
   "outputs": [
    {
     "name": "stdout",
     "output_type": "stream",
     "text": [
      "190927\n",
      "179678\n",
      "474559\n",
      "641786\n",
      "638106\n"
     ]
    }
   ],
   "source": [
    "# 将评分为 1~2 视为负面的影评， 3~5 视为正面的影评\n",
    "# 查看各个评分数量\n",
    "print(sum(stars == 1))\n",
    "print(sum(stars == 2))\n",
    "print(sum(stars == 3))\n",
    "print(sum(stars == 4))\n",
    "print(sum(stars == 5))"
   ]
  },
  {
   "cell_type": "code",
   "execution_count": null,
   "metadata": {},
   "outputs": [
    {
     "name": "stderr",
     "output_type": "stream",
     "text": [
      "  1%|          | 21930/2125056 [00:43<4:19:26, 135.11it/s]"
     ]
    },
    {
     "name": "stdout",
     "output_type": "stream",
     "text": [
      "Star3 full!\n"
     ]
    },
    {
     "name": "stderr",
     "output_type": "stream",
     "text": [
      "  1%|▏         | 31800/2125056 [01:38<2:57:46, 196.24it/s]"
     ]
    },
    {
     "name": "stdout",
     "output_type": "stream",
     "text": [
      "Star4 full!\n"
     ]
    },
    {
     "name": "stderr",
     "output_type": "stream",
     "text": [
      "  3%|▎         | 70397/2125056 [04:37<3:24:51, 167.16it/s]"
     ]
    },
    {
     "name": "stdout",
     "output_type": "stream",
     "text": [
      "Star5 full!\n"
     ]
    },
    {
     "name": "stderr",
     "output_type": "stream",
     "text": [
      "  6%|▌         | 118618/2125056 [09:02<11:20:43, 49.13it/s]"
     ]
    },
    {
     "name": "stdout",
     "output_type": "stream",
     "text": [
      "Star2 full!\n"
     ]
    },
    {
     "name": "stderr",
     "output_type": "stream",
     "text": [
      " 12%|█▏        | 248492/2125056 [11:51<1:19:51, 391.61it/s]"
     ]
    }
   ],
   "source": [
    "# 将从评分为 1~2 和 3~5 中各取 30000 条影评组合成新的影评集合。\n",
    "# 新建变量用于存储新的影评数据集以及统计每个星级影评的数量\n",
    "newComments = []\n",
    "newStars = []\n",
    "star1 = 0\n",
    "star2 = 0\n",
    "star3 = 0\n",
    "star4 = 0\n",
    "star5 = 0\n",
    "full = 0\n",
    "# 遍历原影评集合,重组数据集\n",
    "# 1~2 星各取 15000 条，3~5 星各取 10000 条\n",
    "for i in tqdm(range(len(stars))):\n",
    "    if(full == 5):\n",
    "        break\n",
    "        \n",
    "    star = stars[i]\n",
    "\n",
    "    if(star == 1):\n",
    "        if(star1 < 15000):\n",
    "            star1 += 1\n",
    "\n",
    "            if(star1 == 15000):\n",
    "                print('Star1 full!')\n",
    "                full += 1\n",
    "        else:\n",
    "            continue\n",
    "\n",
    "    if(star == 2):\n",
    "        if(star2 < 15000):\n",
    "            star2 += 1\n",
    "\n",
    "            if(star2 == 15000):\n",
    "                print('Star2 full!')\n",
    "                full += 1\n",
    "        else:\n",
    "            continue\n",
    "\n",
    "    if(star == 3):\n",
    "        if(star3 < 10000):\n",
    "            star3 += 1\n",
    "\n",
    "            if(star3 == 10000):\n",
    "                print('Star3 full!')\n",
    "                full += 1\n",
    "        else:\n",
    "            continue\n",
    "\n",
    "    if(star == 4):\n",
    "        if(star4 < 10000):\n",
    "            star4 += 1\n",
    "\n",
    "            if(star4 == 10000):\n",
    "                print('Star4 full!')\n",
    "                full += 1\n",
    "        else:\n",
    "            continue\n",
    "\n",
    "    if(star == 5):\n",
    "        if(star5 < 10000):\n",
    "            star5 += 1\n",
    "\n",
    "            if(star5 == 10000):\n",
    "                print('Star5 full!')\n",
    "                full += 1\n",
    "        else:\n",
    "            continue\n",
    "            \n",
    "    newComments = np.append(newComments, comments[i])\n",
    "    newStars = np.append(newStars, star)"
   ]
  },
  {
   "cell_type": "code",
   "execution_count": null,
   "metadata": {},
   "outputs": [],
   "source": [
    "# 将整合完的数据存储到本地\n",
    "np.save('data/comments.npy', newComments)\n",
    "np.save('data/stars.npy', newStars)"
   ]
  },
  {
   "cell_type": "code",
   "execution_count": null,
   "metadata": {},
   "outputs": [],
   "source": []
  }
 ],
 "metadata": {
  "kernelspec": {
   "display_name": "Python 3",
   "language": "python",
   "name": "python3"
  },
  "language_info": {
   "codemirror_mode": {
    "name": "ipython",
    "version": 3
   },
   "file_extension": ".py",
   "mimetype": "text/x-python",
   "name": "python",
   "nbconvert_exporter": "python",
   "pygments_lexer": "ipython3",
   "version": "3.6.7"
  }
 },
 "nbformat": 4,
 "nbformat_minor": 4
}
