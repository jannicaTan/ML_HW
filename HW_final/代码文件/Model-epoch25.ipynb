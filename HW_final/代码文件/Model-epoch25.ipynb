{
 "cells": [
  {
   "cell_type": "code",
   "execution_count": null,
   "metadata": {},
   "outputs": [],
   "source": [
    "import numpy as np\n",
    "import json\n",
    "import thulac\n",
    "import re\n",
    "import tensorflow as tf\n",
    "import tensorflow.keras as keras\n",
    "import tensorflow.keras.layers as layers\n",
    "from tqdm import tqdm\n",
    "import cv2 as cv\n",
    "import os\n",
    "import glob"
   ]
  },
  {
   "cell_type": "code",
   "execution_count": null,
   "metadata": {},
   "outputs": [],
   "source": [
    "data = np.load('data/data.npy')\n",
    "labels = np.load('data/labels.npy')"
   ]
  },
  {
   "cell_type": "code",
   "execution_count": 3,
   "metadata": {},
   "outputs": [],
   "source": [
    "# 为了提高识别的准确率，对数据集进行打乱处理\n",
    "permutation = np.random.permutation(labels.shape[0])\n",
    "data = data[permutation, :]\n",
    "labels = labels[permutation]"
   ]
  },
  {
   "cell_type": "code",
   "execution_count": 4,
   "metadata": {},
   "outputs": [],
   "source": [
    "#构建RNN模型\n",
    "model = tf.keras.Sequential([\n",
    "    tf.keras.layers.Embedding(int(data.max() + 1),output_dim=64),\n",
    "    tf.keras.layers.Bidirectional(tf.keras.layers.LSTM(64)),\n",
    "    tf.keras.layers.Dense(64, activation='relu'),\n",
    "    tf.keras.layers.Dense(1)\n",
    "])"
   ]
  },
  {
   "cell_type": "code",
   "execution_count": 5,
   "metadata": {},
   "outputs": [],
   "source": [
    "# 定义优化器\n",
    "adam = keras.optimizers.Adam(0.0001)"
   ]
  },
  {
   "cell_type": "code",
   "execution_count": 6,
   "metadata": {},
   "outputs": [],
   "source": [
    "model.compile(optimizer=adam, \n",
    "              metrics=['acc'],\n",
    "              loss='binary_crossentropy')"
   ]
  },
  {
   "cell_type": "code",
   "execution_count": 7,
   "metadata": {},
   "outputs": [
    {
     "name": "stdout",
     "output_type": "stream",
     "text": [
      "Model: \"sequential\"\n",
      "_________________________________________________________________\n",
      "Layer (type)                 Output Shape              Param #   \n",
      "=================================================================\n",
      "embedding (Embedding)        (None, None, 64)          3180864   \n",
      "_________________________________________________________________\n",
      "bidirectional (Bidirectional (None, 128)               66048     \n",
      "_________________________________________________________________\n",
      "dense (Dense)                (None, 64)                8256      \n",
      "_________________________________________________________________\n",
      "dense_1 (Dense)              (None, 1)                 65        \n",
      "=================================================================\n",
      "Total params: 3,255,233\n",
      "Trainable params: 3,255,233\n",
      "Non-trainable params: 0\n",
      "_________________________________________________________________\n"
     ]
    }
   ],
   "source": [
    "model.summary()"
   ]
  },
  {
   "cell_type": "code",
   "execution_count": 8,
   "metadata": {},
   "outputs": [],
   "source": [
    "# 使用 Tensorboard 作为模型训练监视器，监控过拟合\n",
    "tensorBoard = keras.callbacks.TensorBoard(log_dir='kerasLog', write_images=1, histogram_freq=1)"
   ]
  },
  {
   "cell_type": "code",
   "execution_count": 9,
   "metadata": {},
   "outputs": [
    {
     "name": "stdout",
     "output_type": "stream",
     "text": [
      "Train on 48000 samples, validate on 12000 samples\n",
      "Epoch 1/25\n",
      "48000/48000 [==============================] - 89s 2ms/sample - loss: 1.1406 - acc: 0.5012 - val_loss: 0.7238 - val_acc: 0.4953\n",
      "Epoch 2/25\n",
      "48000/48000 [==============================] - 83s 2ms/sample - loss: 0.6257 - acc: 0.6839 - val_loss: 0.5568 - val_acc: 0.7465\n",
      "Epoch 3/25\n",
      "48000/48000 [==============================] - 83s 2ms/sample - loss: 0.5117 - acc: 0.7809 - val_loss: 0.6000 - val_acc: 0.6032\n",
      "Epoch 4/25\n",
      "48000/48000 [==============================] - 82s 2ms/sample - loss: 0.4497 - acc: 0.8175 - val_loss: 0.4573 - val_acc: 0.8168\n",
      "Epoch 5/25\n",
      "48000/48000 [==============================] - 82s 2ms/sample - loss: 0.4179 - acc: 0.8410 - val_loss: 0.4461 - val_acc: 0.8240\n",
      "Epoch 6/25\n",
      "48000/48000 [==============================] - 83s 2ms/sample - loss: 0.3860 - acc: 0.8529 - val_loss: 0.4641 - val_acc: 0.8281\n",
      "Epoch 7/25\n",
      "48000/48000 [==============================] - 83s 2ms/sample - loss: 0.4015 - acc: 0.8341 - val_loss: 0.4552 - val_acc: 0.8290\n",
      "Epoch 8/25\n",
      "48000/48000 [==============================] - 83s 2ms/sample - loss: 0.3636 - acc: 0.8625 - val_loss: 0.4570 - val_acc: 0.8288\n",
      "Epoch 9/25\n",
      "48000/48000 [==============================] - 82s 2ms/sample - loss: 0.3527 - acc: 0.8673 - val_loss: 0.4738 - val_acc: 0.8333\n",
      "Epoch 10/25\n",
      "48000/48000 [==============================] - 83s 2ms/sample - loss: 0.3383 - acc: 0.8734 - val_loss: 0.4890 - val_acc: 0.8354\n",
      "Epoch 11/25\n",
      "48000/48000 [==============================] - 82s 2ms/sample - loss: 0.3202 - acc: 0.8804 - val_loss: 0.5090 - val_acc: 0.8358\n",
      "Epoch 12/25\n",
      "48000/48000 [==============================] - 83s 2ms/sample - loss: 0.3152 - acc: 0.8808 - val_loss: 0.4648 - val_acc: 0.8280\n",
      "Epoch 13/25\n",
      "48000/48000 [==============================] - 82s 2ms/sample - loss: 0.3029 - acc: 0.8880 - val_loss: 0.5377 - val_acc: 0.8353\n",
      "Epoch 14/25\n",
      "48000/48000 [==============================] - 83s 2ms/sample - loss: 0.2921 - acc: 0.8942 - val_loss: 0.5286 - val_acc: 0.8262\n",
      "Epoch 15/25\n",
      "48000/48000 [==============================] - 82s 2ms/sample - loss: 0.2866 - acc: 0.8963 - val_loss: 0.6223 - val_acc: 0.8361\n",
      "Epoch 16/25\n",
      "48000/48000 [==============================] - 83s 2ms/sample - loss: 0.3415 - acc: 0.8743 - val_loss: 0.5551 - val_acc: 0.8163\n",
      "Epoch 17/25\n",
      "48000/48000 [==============================] - 83s 2ms/sample - loss: 0.3052 - acc: 0.8885 - val_loss: 0.5801 - val_acc: 0.8346\n",
      "Epoch 18/25\n",
      "48000/48000 [==============================] - 83s 2ms/sample - loss: 0.2701 - acc: 0.9033 - val_loss: 0.6608 - val_acc: 0.8359\n",
      "Epoch 19/25\n",
      "48000/48000 [==============================] - 82s 2ms/sample - loss: 0.2644 - acc: 0.9073 - val_loss: 0.6587 - val_acc: 0.8321\n",
      "Epoch 20/25\n",
      "48000/48000 [==============================] - 82s 2ms/sample - loss: 0.2537 - acc: 0.9121 - val_loss: 0.7113 - val_acc: 0.8147\n",
      "Epoch 21/25\n",
      "48000/48000 [==============================] - 82s 2ms/sample - loss: 0.2526 - acc: 0.9145 - val_loss: 0.7204 - val_acc: 0.8313\n",
      "Epoch 22/25\n",
      "48000/48000 [==============================] - 82s 2ms/sample - loss: 0.2886 - acc: 0.8933 - val_loss: 0.5488 - val_acc: 0.7946\n",
      "Epoch 23/25\n",
      "48000/48000 [==============================] - 83s 2ms/sample - loss: 0.2559 - acc: 0.9114 - val_loss: 0.6771 - val_acc: 0.8333\n",
      "Epoch 24/25\n",
      "48000/48000 [==============================] - 82s 2ms/sample - loss: 0.2479 - acc: 0.9149 - val_loss: 0.7712 - val_acc: 0.7673\n",
      "Epoch 25/25\n",
      "48000/48000 [==============================] - 83s 2ms/sample - loss: 0.2367 - acc: 0.9163 - val_loss: 0.7455 - val_acc: 0.8327\n"
     ]
    }
   ],
   "source": [
    "history=model.fit(data, labels, batch_size=128, validation_split=0.2, epochs=25, callbacks=[tensorBoard], verbose=1)"
   ]
  },
  {
   "cell_type": "code",
   "execution_count": 10,
   "metadata": {},
   "outputs": [
    {
     "data": {
      "image/png": "[encoded data removed]",
      "text/plain": [
       "<Figure size 1152x432 with 2 Axes>"
      ]
     },
     "metadata": {
      "needs_background": "light"
     },
     "output_type": "display_data"
    }
   ],
   "source": [
    "import matplotlib.pyplot as plt\n",
    "def plot_graphs(history, metric):\n",
    "  plt.plot(history.history[metric])\n",
    "  plt.plot(history.history['val_'+metric], '')\n",
    "  plt.xlabel(\"Epochs\")\n",
    "  plt.ylabel(metric)\n",
    "  plt.legend([metric, 'val_'+metric])\n",
    "\n",
    "plt.figure(figsize=(16, 6))\n",
    "plt.subplot(1, 2, 1)\n",
    "plot_graphs(history, 'acc')\n",
    "plt.subplot(1, 2, 2)\n",
    "plot_graphs(history, 'loss')"
   ]
  },
  {
   "cell_type": "code",
   "execution_count": 11,
   "metadata": {},
   "outputs": [],
   "source": [
    "model.save('model.h5')"
   ]
  },
  {
   "cell_type": "code",
   "execution_count": 12,
   "metadata": {},
   "outputs": [],
   "source": [
    "model = keras.models.load_model('model.h5')\n",
    "fin = open('data/word_dict.json', 'r+', encoding='utf8')\n",
    "word_dict = json.load(fin)\n",
    "fin.close()"
   ]
  },
  {
   "cell_type": "code",
   "execution_count": 13,
   "metadata": {},
   "outputs": [
    {
     "name": "stdout",
     "output_type": "stream",
     "text": [
      "Model loaded succeed\n"
     ]
    }
   ],
   "source": [
    "thu = thulac.thulac(seg_only=True, T2S=True, filt=False)\n",
    "def encodeReview(comment):\n",
    "    global thu,word_dict\n",
    "\n",
    "    texts = thu.cut(comment, text=True)\n",
    "    texts = texts.split(' ')\n",
    "\n",
    "    encodedReview = np.array([1]) # <START>\n",
    "    for text in texts:\n",
    "        if(word_dict.get(text) != None):\n",
    "            encodedReview = np.append(encodedReview, word_dict[text])\n",
    "        else:\n",
    "            encodedReview = np.append(encodedReview, 2) # <UNK>\n",
    "\n",
    "    return encodedReview"
   ]
  },
  {
   "cell_type": "code",
   "execution_count": 14,
   "metadata": {},
   "outputs": [],
   "source": [
    "nagativeComment = encodeReview(' 什么破烂反派，毫无戏剧冲突能消耗两个多小时生命，还强加爱情戏。脑残片好圈钱倒是真的。')\n",
    "activeComment = encodeReview('机甲之战超超好看，比变形金刚强；人，神，变异人，人工智能互殴，强强强强；每一小段末句都是槽或者笑点，应该死了不少编剧；Jane不来客串，雷神没露，扣分；女神配怪兽，fair enough；美国队长我最喜欢他的盾，大概因为紫龙；难得人物多次发表演讲还不死；最后，找到了下半年新发型，开心！')\n",
    "# 使用 np.expand_dims 在不改变数据值的情况下扩增一个维度\n",
    "nagativeComment = np.expand_dims(nagativeComment, axis = 0)\n",
    "activeComment = np.expand_dims(activeComment, axis = 0)"
   ]
  },
  {
   "cell_type": "code",
   "execution_count": 15,
   "metadata": {},
   "outputs": [
    {
     "name": "stdout",
     "output_type": "stream",
     "text": [
      "[[    1 32789 46100 46266   715     2  1775 29514  7393 31425 16843 39036\n",
      "   8721 16111 36402   715 48666 35375 19999 47365 39139  4435 45052 42129\n",
      "   4439 31936 26083 11615 39139]]\n",
      "------\n",
      "[[    1 30954 22786 20183 15023 15491   715  6042 40194 42669 41618 40634\n",
      "    715 33415   715 21543 36268   715  5585 16520   715 32191 30512 30512\n",
      "  41618  5230 29912 40392 40535 38600  8709 24261 11722  4539 12686 23186\n",
      "    715     2 17136  7556     2 47353 41618 20793 24781  2069 14382   715\n",
      "  44180  1962 39111   715 21900 41618 19833 26432   715 30010  4360 41618\n",
      "  48807 30229 29161 42637 25559 26732 11615 29025   715 19532 29284 25111\n",
      "  41618 23473 39384 20792 11129 48666 24781 17136 41618 29964   715 46255\n",
      "   7556 42023 29116   715 48508 46590]]\n"
     ]
    }
   ],
   "source": [
    "print(nagativeComment)\n",
    "print('------')\n",
    "print(activeComment)"
   ]
  },
  {
   "cell_type": "code",
   "execution_count": 16,
   "metadata": {},
   "outputs": [],
   "source": [
    "nResult = model.predict(nagativeComment)\n",
    "aResult = model.predict(activeComment)"
   ]
  },
  {
   "cell_type": "code",
   "execution_count": 17,
   "metadata": {},
   "outputs": [
    {
     "name": "stdout",
     "output_type": "stream",
     "text": [
      "[[-0.07823405]]\n",
      "负面\n",
      "正面\n"
     ]
    }
   ],
   "source": [
    "print(nResult)\n",
    "if(nResult[0][0] < 0.5):\n",
    "    print('负面')\n",
    "else:\n",
    "    print('正面')\n",
    "\n",
    "if(aResult[0][0] < 0.5):\n",
    "    print('负面')\n",
    "else:\n",
    "    print('正面')"
   ]
  },
  {
   "cell_type": "code",
   "execution_count": null,
   "metadata": {},
   "outputs": [],
   "source": []
  }
 ],
 "metadata": {
  "kernelspec": {
   "display_name": "Python 3",
   "language": "python",
   "name": "python3"
  },
  "language_info": {
   "codemirror_mode": {
    "name": "ipython",
    "version": 3
   },
   "file_extension": ".py",
   "mimetype": "text/x-python",
   "name": "python",
   "nbconvert_exporter": "python",
   "pygments_lexer": "ipython3",
   "version": "3.6.7"
  }
 },
 "nbformat": 4,
 "nbformat_minor": 4
}
